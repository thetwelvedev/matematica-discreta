{
 "cells": [
  {
   "cell_type": "markdown",
   "metadata": {},
   "source": [
    "Questão 1 - Fórmulas da Soma de inteiros elevado a m \n",
    "Onde temos as seguintes fórmulas:\n",
    "m = 1 -> n(n-1)/2\n",
    "m = 2 -> n(n-1)(2n+1)/6\n",
    "m = 3 -> n²(n-1)²/4\n",
    "Então a saída tem que ser uma fórmula dependendo do valor de m."
   ]
  },
  {
   "cell_type": "code",
   "execution_count": 1,
   "metadata": {},
   "outputs": [
    {
     "name": "stdout",
     "output_type": "stream",
     "text": [
      "n⋅(n + 1)\n",
      "─────────\n",
      "    2    \n",
      "\n",
      "\n",
      "  ⎛   2          ⎞\n",
      "n⋅⎝2⋅n  + 3⋅n + 1⎠\n",
      "──────────────────\n",
      "        6         \n",
      "\n",
      "\n",
      " 2 ⎛ 2          ⎞\n",
      "n ⋅⎝n  + 2⋅n + 1⎠\n",
      "─────────────────\n",
      "        4        \n"
     ]
    }
   ],
   "source": [
    "import sympy as sp\n",
    "\n",
    "def faulhaber_formula(m):\n",
    "    n = sp.Symbol('n', integer=True)\n",
    "    sum_formula = 0\n",
    "    \n",
    "    for k in range(m + 1):\n",
    "        bernoulli_term = sp.bernoulli(k)\n",
    "        term = (bernoulli_term * sp.binomial(m + 1, k) * n**(m + 1 - k)) / (m + 1)\n",
    "        sum_formula += term\n",
    "    \n",
    "    return sp.simplify(sum_formula)\n",
    "\n",
    "# Exemplo de uso\n",
    "m = 1\n",
    "sp.pretty_print(faulhaber_formula(m))\n",
    "print(\"\\n\")\n",
    "m = 2\n",
    "sp.pretty_print(faulhaber_formula(m))\n",
    "print(\"\\n\")\n",
    "m = 3\n",
    "sp.pretty_print(faulhaber_formula(m))"
   ]
  },
  {
   "cell_type": "markdown",
   "metadata": {},
   "source": [
    "Questão 2 - Matriz da eletrônica Digital  \n",
    "A matriz que comparece na análise de circuitos em eletronica digital  a vista a seguir:   \n",
    "Aij = 1, se i - 1 / 2^(N - j) é ímpar; 0, se i - 1 / 2^(N - j) é par.  \n",
    "Acima temos uma fórmula que gera a matriz, N é o número de variáveis lógicas (na entrada do circuito). "
   ]
  },
  {
   "cell_type": "code",
   "execution_count": 1,
   "metadata": {},
   "outputs": [
    {
     "name": "stdout",
     "output_type": "stream",
     "text": [
      "[[0 0 0]\n",
      " [0 0 1]\n",
      " [0 1 0]\n",
      " [0 1 1]\n",
      " [1 0 0]\n",
      " [1 0 1]\n",
      " [1 1 0]\n",
      " [1 1 1]]\n"
     ]
    }
   ],
   "source": [
    "import numpy as np\n",
    "from math import floor\n",
    "\n",
    "def EXPORT_MED(n):\n",
    "    m = np.zeros((2**n, n), dtype=int) #Cria a matriz cheia de zeros\n",
    "    \n",
    "    for i in range(1, 2**n + 1): #linha e tem que ser + 1 pois não conta o último valor \n",
    "        for j in range(1, n + 1): #coluna e tem que ser + 1 pois não conta o último valor\n",
    "            if floor((i-1) / 2**(n-j)) % 2 == 0:\n",
    "                m[i-1, j-1] = 0\n",
    "            else:\n",
    "                m[i-1, j-1] = 1\n",
    "    \n",
    "    return print(m)\n",
    "\n",
    "# Exemplo de uso igual do pdf\n",
    "n = 3\n",
    "EXPORT_MED(n)"
   ]
  },
  {
   "cell_type": "markdown",
   "metadata": {},
   "source": [
    "Numpy: Usei a biblioteca numpy para criar e manipular a matriz M, que é inicializada com zeros.  \n",
    "Usa o [i-1] e [j-1] pois em python os arrays começam em 0. Então é necessário para usar o índice correto."
   ]
  },
  {
   "cell_type": "markdown",
   "metadata": {},
   "source": [
    "Questão 3 - Matriz de Combinações  \n",
    "A conhecida fórmula da análise combinatória:  \n",
    "(m,r) = m!/(m-r)!r!  \n",
    "nos diz quantas são as combinações de m objetos tomados r a r; no entanto, ela não diz como encontrar as tais combinações A seguir damos uma fórmula que cumpre   essa finalidade.  \n",
    "A matriz de combinações e a fórmula geratriz são vistas a seguir:  \n",
    "Aij = 1, se i / 2^j é ímpar; 0, se i / 2^j é par.   "
   ]
  },
  {
   "cell_type": "code",
   "execution_count": 2,
   "metadata": {},
   "outputs": [
    {
     "name": "stdout",
     "output_type": "stream",
     "text": [
      "[[0 0 0 0]\n",
      " [1 0 0 0]\n",
      " [0 1 0 0]\n",
      " [1 1 0 0]\n",
      " [0 0 1 0]\n",
      " [1 0 1 0]\n",
      " [0 1 1 0]\n",
      " [1 1 1 0]\n",
      " [0 0 0 1]\n",
      " [1 0 0 1]\n",
      " [0 1 0 1]\n",
      " [1 1 0 1]\n",
      " [0 0 1 1]\n",
      " [1 0 1 1]\n",
      " [0 1 1 1]\n",
      " [1 1 1 1]]\n"
     ]
    }
   ],
   "source": [
    "import numpy as np\n",
    "from math import floor\n",
    "\n",
    "def MATRIZ_COMBINA(n):\n",
    "    m = np.zeros((2**n, n), dtype=int) #Cria a matriz cheia de zeros com dimensão 2^n x n\n",
    "    \n",
    "    for i in range(2**n): #linha - como na fórmula passada tinha 2^n-1, mas no python já exclui o último termo, logo apenas colocar 2^n e equivale a 2^n-1 da fórmula\n",
    "        for j in range(n): #coluna - como na fórmula passada tinha n-1, mas no python já exclui o último termo, logo apenas colocar n e equivale a n-1 da fórmula\n",
    "            if floor(i / 2**j) % 2 == 0:\n",
    "                m[i, j] = 0\n",
    "            else:\n",
    "                m[i, j] = 1\n",
    "    \n",
    "    return print(m)\n",
    "\n",
    "# Exemplo igual do pdf\n",
    "n = 4\n",
    "MATRIZ_COMBINA(n)"
   ]
  },
  {
   "cell_type": "markdown",
   "metadata": {},
   "source": [
    "Referências:\n",
    "Questão 1 - \n",
    "1 + 2 + 3 + ... + n = n(n-1)/2\n",
    "1² + 2² + 3² + ... + n² = n(n-1)(2n+1)/6\n",
    "1³ + 2³ + 3³ + ... + n³ = n²(n-1)²/4\n",
    "\n",
    "Questão 2 - Matriz da eletrônica Digital\n",
    "EXPORT MED(N)\n",
    "BEGIN LOCAL M; M:=[[0]];\n",
    "\tFOR I FROM 1 TO 2^N DO\n",
    "\t    FOR j FROM 1 TO N DO\n",
    "       IF   FLOOR((I-1)/2^(N-J)) MOD 2 == 0\n",
    "       THEN M(I,J):=0\n",
    "       ELSE M(I,J):=1\n",
    "       END;\n",
    "            END;\n",
    "\tEND;\n",
    "END;\n",
    "\n",
    "Questão 3 - Matriz de Combinações\n",
    "EXPORT MATRIZ_COMBINA(N)\n",
    "BEGIN LOCAL M; M:=[[0]];\n",
    "\tFOR I FROM 0 TO 2^N-1 DO\n",
    "\t    FOR j FROM 0 TO N-1 DO\n",
    "       IF   FLOOR((I/2^J)) MOD 2 == 0\n",
    "       THEN M(I+1,J+1):=0\n",
    "       ELSE M(I+1,J+1):=1\n",
    "       END;\n",
    "            END;\n",
    "\tEND;\n",
    "END;"
   ]
  }
 ],
 "metadata": {
  "kernelspec": {
   "display_name": ".venv",
   "language": "python",
   "name": "python3"
  },
  "language_info": {
   "codemirror_mode": {
    "name": "ipython",
    "version": 3
   },
   "file_extension": ".py",
   "mimetype": "text/x-python",
   "name": "python",
   "nbconvert_exporter": "python",
   "pygments_lexer": "ipython3",
   "version": "3.12.0"
  }
 },
 "nbformat": 4,
 "nbformat_minor": 2
}
